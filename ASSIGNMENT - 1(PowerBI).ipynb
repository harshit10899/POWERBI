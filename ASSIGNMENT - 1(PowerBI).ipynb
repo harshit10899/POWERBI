{
 "cells": [
  {
   "cell_type": "markdown",
   "id": "da124210",
   "metadata": {},
   "source": [
    "## Q. What do you mean by BI? Explain.\n",
    "\n"
   ]
  },
  {
   "cell_type": "markdown",
   "id": "dd7450fc",
   "metadata": {},
   "source": [
    "Business intelligence (BI) is an umbrella term that includes the applications, infrastructure and tools, and best practices that enable access to and analysis ofinformation to improve and optimize decisions  and performance –Gartner.\n",
    "\n",
    "Business intelligence (BI) is a technology-driven process for analyzing data and presenting actionable information to help corporate executives, business managers and other end users make more informed business decisions. \n",
    "\n",
    "Business intelligence (BI) is the set of techniques and tools for the transformation of raw data into meaningful and useful information for business analysis purposes. \n",
    "\n",
    "Business intelligence (BI) represents the tools, systems and software that play a key role in the strategic planning process of the corporation. \n",
    "\n",
    "Business intelligence (BI) is the use of computing technologies for the identification, discovery and analysis of business data - like sales revenue, products, costs and \n",
    "incomes. \n"
   ]
  },
  {
   "cell_type": "markdown",
   "id": "465dc7fc",
   "metadata": {},
   "source": [
    "## Q.How Power-BI helps in BI, and how does it help Analysts? Explain.\n"
   ]
  },
  {
   "cell_type": "markdown",
   "id": "ec83d2a7",
   "metadata": {},
   "source": [
    "Power BI is a business analytics solution that lets you visualize your data and share insights across your organization, or embed them in your app or website. Connect to hundreds of data sources and bring your data to life with live dashboards and reports. \n",
    "It provides interactive visualizations with self-service business intelligence capabilities, where end users can create reports and dashboards by themselves, without having to depend on any information technology staff or database administrator. \n"
   ]
  },
  {
   "cell_type": "markdown",
   "id": "4c132d20",
   "metadata": {},
   "source": [
    "## Q. Explain Descriptive analytics?\n"
   ]
  },
  {
   "cell_type": "markdown",
   "id": "c763c1aa",
   "metadata": {},
   "source": [
    "Descriptive analytics is the process of parsing historical data to better\n",
    "understand the changes that have occurred in a business.\n",
    "\n",
    "Using a range of historic data and benchmarking, decision-makers obtain a\n",
    "holistic view of performance and trends on which to base business strategy.\n",
    "\n",
    "Descriptive analytics can help to identify the areas of strength and weakness\n",
    "in an organization.\n",
    "\n",
    "Examples of metrics used in descriptive analytics include year-over-year pricing changes, month-over-month sales growth, the number of users, or the total revenue per subscriber.\n",
    "\n",
    "Descriptive analytics is now being used in conjunction with newer analytics, such as predictive and prescriptive analytics.\n",
    "\n",
    "In its simplest form, descriptive analytics answers the question, \"What happened?\""
   ]
  },
  {
   "cell_type": "markdown",
   "id": "cb4f4617",
   "metadata": {},
   "source": [
    "# #Q. Explain Predictive analytics?"
   ]
  },
  {
   "cell_type": "markdown",
   "id": "19b3168e",
   "metadata": {},
   "source": [
    "Predictive analytics uses statistics and modeling techniques to determine future performance.\n",
    "\n",
    "Industries and disciplines, such as insurance and marketing, use predictive techniques to make important decisions.\n",
    "\n",
    "Predictive models help make weather forecasts, develop video games, translate voice-to-text messages, customer service decisions, and develop investment portfolios.\n",
    "\n",
    "People often confuse predictive analytics with machine learning even though the two are different disciplines.\n",
    "\n",
    "Types of predictive models include decision trees, regression, and neural networks."
   ]
  },
  {
   "cell_type": "markdown",
   "id": "1057bff4",
   "metadata": {},
   "source": [
    "# #Q. Explain perspective analytics?"
   ]
  },
  {
   "cell_type": "markdown",
   "id": "58e07feb",
   "metadata": {},
   "source": [
    "Prescriptive analytics is a form of data analytics that tries to answer \"What do we need to do to achieve this?\"\n",
    "\n",
    "It uses machine learning to help businesses decide a course of action based on a computer program’s predictions.\n",
    "\n",
    "Prescriptive analytics works with predictive analytics, which uses data to determine near-term outcomes.\n",
    "\n",
    "When used effectively, it can help organizations make decisions based on facts and probability-weighted projections instead of conclusions based on instinct.\n",
    "\n",
    "Prescriptive analytics isn't foolproof, as it's only as effective as its inputs."
   ]
  },
  {
   "cell_type": "markdown",
   "id": "7bca46e3",
   "metadata": {},
   "source": [
    "# #Q. Write five real-life questions that PowerBi can solve.\n"
   ]
  },
  {
   "cell_type": "markdown",
   "id": "2a59f9c9",
   "metadata": {},
   "source": [
    "1. MEASURE CUSTOMER SATISFACTION\n",
    "\n",
    "\n",
    "\n",
    "\n",
    "2. SEE WHAT CUSTOMERS WANT\n",
    "\n",
    "\n",
    "\n",
    "\n",
    "\n",
    "3. RETAIN YOUR CUSTOMERS \n",
    "\n",
    "\n",
    "\n",
    "\n",
    "4. UNDERSTAND CUSTOMERS’ PERCEPTION ABOUT  YOUR PRODUCT OR SERVICE \n",
    "\n",
    "\n",
    "\n",
    "\n",
    "5. ANALYZING THE OPINION OF PEOPLE ON A SPECIFIC"
   ]
  },
  {
   "cell_type": "code",
   "execution_count": null,
   "id": "057b0c20",
   "metadata": {},
   "outputs": [],
   "source": []
  }
 ],
 "metadata": {
  "kernelspec": {
   "display_name": "Python 3 (ipykernel)",
   "language": "python",
   "name": "python3"
  },
  "language_info": {
   "codemirror_mode": {
    "name": "ipython",
    "version": 3
   },
   "file_extension": ".py",
   "mimetype": "text/x-python",
   "name": "python",
   "nbconvert_exporter": "python",
   "pygments_lexer": "ipython3",
   "version": "3.9.7"
  }
 },
 "nbformat": 4,
 "nbformat_minor": 5
}
