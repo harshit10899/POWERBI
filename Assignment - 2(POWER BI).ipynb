{
 "cells": [
  {
   "cell_type": "markdown",
   "id": "845f850b",
   "metadata": {},
   "source": [
    "# Power BI Assignment 2\n"
   ]
  },
  {
   "cell_type": "markdown",
   "id": "dd22dd7d",
   "metadata": {},
   "source": [
    "# Explain the advantages of Natural Queries in PowerBi with an example?"
   ]
  },
  {
   "cell_type": "markdown",
   "id": "513de5d5",
   "metadata": {},
   "source": [
    "Sometimes the fastest way to get an answer from your data is to perform a search over your data using natural language. The Q&A feature in Power BI lets you explore your data in your own words using natural language. \n",
    "\n",
    "As you type your question, Power BI Q&A shows relevant and contextual suggestions to help you quickly become productive with natural language.\n",
    "\n",
    "Q&A shows words with underlines to help you see which words the system understood or didn't recognize.\n",
    "\n",
    "As you type your question, Q&A tries to instantly interpret and visualize the answer. As part of the latest updates, Q&A now tries to interpret the question and plot the fields automatically to the correct axis."
   ]
  },
  {
   "cell_type": "markdown",
   "id": "d952e06b",
   "metadata": {},
   "source": [
    "# Explain Web Front End(WFE) cluster from Power BI Service Architecture?\n"
   ]
  },
  {
   "cell_type": "markdown",
   "id": "2fb50142",
   "metadata": {},
   "source": [
    "The Web Front End (WFE) cluster. The WFE cluster manages the initial connection and authentication to the Power BI service.\n",
    "The WFE cluster uses Azure AD to authenticate clients, and provide tokens for subsequent client connections to the Power BI service.\n",
    "\n",
    "Power BI uses the Azure Traffic Manager (Traffic Manager) to direct user traffic to the nearest datacenter.\n",
    "\n",
    "Traffic Manager directs requests using the DNS record of the client attempting to connect, authenticate, and to download static content and files.\n",
    "\n",
    "Power BI uses the Azure Content Delivery Network (CDN) to efficiently distribute the necessary static content and files to users based on geographical locale.\n",
    "\n"
   ]
  },
  {
   "cell_type": "markdown",
   "id": "f0e07127",
   "metadata": {},
   "source": [
    "# Explain Back End cluster from Power BI Service Architecture?\n"
   ]
  },
  {
   "cell_type": "markdown",
   "id": "c15d49bb",
   "metadata": {},
   "source": [
    "The Back-End cluster. Once authenticated, the Back-End handles all subsequent user interactions. Power BI uses Azure Active Directory (Azure AD) to store and manage user identities.\n",
    "\n",
    "The Back-End cluster determines how authenticated clients interact with the Power BI service.\n",
    "\n",
    "The Back-End cluster manages visualizations, user dashboards, datasets, reports, data storage, data connections, data refresh, and other aspects of interacting with the Power BI service.\n",
    "\n",
    "The Gateway Role acts as a gateway between user requests and the Power BI service.\n",
    "\n",
    "Users don't interact directly with any roles other than the Gateway Role. Azure API Management eventually handles the Gateway Role.\n",
    "\n"
   ]
  },
  {
   "cell_type": "markdown",
   "id": "d18d8af0",
   "metadata": {},
   "source": [
    "# What ASP.NET component does in Power BI Service Architecture?\n"
   ]
  },
  {
   "cell_type": "markdown",
   "id": "ab7622af",
   "metadata": {},
   "source": [
    "Power BI Service is a web-based platform from where you can share reports made on Power BI Desktop, collaborate with other users, and create dashboards.\n",
    "\n",
    "\n",
    "It is available in three versions:\n",
    "\n",
    "Free version\n",
    "\n",
    "Pro version\n",
    "\n",
    "Premium version\n",
    "\n",
    "Power BI Service is also known as, “Power BI.com”, “Power BI Workspace”, “Power BI Site” and “Power BI Web Portal”. This component also offers advanced features like natural language Q&A and alerts.\n",
    "\n",
    "Power BI is a cloud-based business analytics service that gives you a single view of your most critical business data."
   ]
  },
  {
   "cell_type": "markdown",
   "id": "2e2f89b8",
   "metadata": {},
   "source": [
    "# Compare Microsoft Excel and PowerBi Desktop on the following features:Data import Data transformation Modeling  Reporting Server Deployment Convert Models Cost\n"
   ]
  },
  {
   "cell_type": "markdown",
   "id": "30a818b0",
   "metadata": {},
   "source": [
    "DATA IMPORT \n",
    "\n",
    "EXCEL\n",
    "Limited connectivity with other applications and system.\n",
    "\n",
    "POWER BI\n",
    "You can extract data from virtually any platform,software and application.\n",
    "\n",
    "DATA TRANSFORMATION\n",
    "\n",
    "EXCEL \n",
    "Excel is also used to transform data sets into visual information.\n",
    "\n",
    "POWER BI\n",
    "It has high graphic and data transformation capabilities in reports, dashboards and customized, attractive, interactive and easily understandable visualizations.\n",
    "\n",
    "MODELING \n",
    "\n",
    "EXCEL\n",
    "Excel is totally focused on structured and simple data models with a wide range of features. \n",
    "\n",
    "POWER BI\n",
    "Power BI is really focused on data ingest and building potentially complex data models easily.\n",
    "\n",
    "REPORTING\n",
    "\n",
    "EXCEL \n",
    "Excel has only a few built-in charts, and we need to work with only those charts to build dashboards.\n",
    "\n",
    "POWER BI\n",
    "Power BI has a wide variety of visualizations. We can import many other visuals from the marketplace besides available built-in charts.\n",
    "\n",
    "SERVER DEPLOYMENT\n",
    "\n",
    "EXCEL \n",
    "Speed for processing with table, graph, and filtering is slow.\n",
    "\n",
    "POWER BI\n",
    "Faster Processing with table, graph, and filtering.\n",
    "\n",
    "CONVERT MODELS\n",
    "\n",
    "EXCEL\n",
    "Excel does not advanced Cross filtering between charts.\n",
    "\n",
    "POWER BI\n",
    "Power BI allows advanced features in Cross filtering between charts.\n",
    "\n",
    "COST\n",
    "\n",
    "EXCEL\n",
    "Since we already have Excel, we need to spend additional money to procure this and build dashboards.\n",
    "\n",
    "POWER BI\n",
    "Power BI Desktop is free to download and use for personal use, but it takes $10 per month per user to share reports with others.\n"
   ]
  },
  {
   "cell_type": "markdown",
   "id": "ff96dab9",
   "metadata": {},
   "source": [
    "# List 20 data sources supported by Power Bi desktop.\n"
   ]
  },
  {
   "cell_type": "markdown",
   "id": "22ac64c7",
   "metadata": {},
   "source": [
    "With Power BI Desktop, you can connect to data from many different sources. Like :-\n",
    "\n",
    "SQL Server database\n",
    "\n",
    "Access database\n",
    "\n",
    "SQL Server Analysis Services database\n",
    "\n",
    "Oracle database\n",
    "\n",
    "IBM Db2 database\n",
    "\n",
    "IBM Informix database (Beta)\n",
    "\n",
    "IBM Netezza\n",
    "\n",
    "MySQL database\n",
    "\n",
    "PostgreSQL database\n",
    "\n",
    "Sybase database\n",
    "\n",
    "Teradata database\n",
    "\n",
    "SAP HANA database\n",
    "\n",
    "SAP Business Warehouse Application Server\n",
    "\n",
    "SAP Business Warehouse Message Server\n",
    "\n",
    "Amazon Redshift\n",
    "\n",
    "Impala\n",
    "\n",
    "Google BigQuery\n",
    "\n",
    "Vertica\n",
    "\n",
    "Snowflake\n",
    "\n",
    "Essbase\n",
    "\n",
    "Actian (Beta)\n",
    "\n",
    "Amazon Athena\n",
    "\n"
   ]
  }
 ],
 "metadata": {
  "kernelspec": {
   "display_name": "Python 3 (ipykernel)",
   "language": "python",
   "name": "python3"
  },
  "language_info": {
   "codemirror_mode": {
    "name": "ipython",
    "version": 3
   },
   "file_extension": ".py",
   "mimetype": "text/x-python",
   "name": "python",
   "nbconvert_exporter": "python",
   "pygments_lexer": "ipython3",
   "version": "3.9.7"
  }
 },
 "nbformat": 4,
 "nbformat_minor": 5
}
