{
 "cells": [
  {
   "cell_type": "markdown",
   "id": "2bd0ee67",
   "metadata": {},
   "source": [
    "# Power BI Assignment 3\n"
   ]
  },
  {
   "cell_type": "markdown",
   "id": "6160df4d",
   "metadata": {},
   "source": [
    "# 1. List and explain different PowerBi products?\n"
   ]
  },
  {
   "cell_type": "markdown",
   "id": "35d1fe89",
   "metadata": {},
   "source": [
    "## Power BI Pro"
   ]
  },
  {
   "cell_type": "markdown",
   "id": "aa829995",
   "metadata": {},
   "source": [
    "License individual users with modern, self-service analytics to visualise data with live dashboards and reports, and share insights across your organisation."
   ]
  },
  {
   "cell_type": "markdown",
   "id": "bc71e448",
   "metadata": {},
   "source": [
    "## Power BI Premium"
   ]
  },
  {
   "cell_type": "markdown",
   "id": "26247b85",
   "metadata": {},
   "source": [
    "License individual users to accelerate access to insights with advanced AI, unlock self-service data prep for big data, and simplify data management and access at enterprise scale."
   ]
  },
  {
   "cell_type": "markdown",
   "id": "15c58622",
   "metadata": {},
   "source": [
    "# 2. What limitations of Excel, Microsoft solved by PowerBi?"
   ]
  },
  {
   "cell_type": "markdown",
   "id": "88bd37cf",
   "metadata": {},
   "source": [
    "Excel is used to organize data, transform it and perform mathematical operations and calculations. On the other hand, Power BI was conceived as a business intelligence and data visualization tool for businesses.\n",
    "\n",
    "Excel has limitations in the amount of data it can work with. In contrast, Power BI can handle much larger amounts of data.\n",
    "\n",
    "Power BI can connect to a large number of data sources, while Excel's connectivity capacity is limited. Also, unlike Excel, Power BI can be easily used from mobile devices.\n",
    "\n",
    "Power BI has faster processing than Excel.\n",
    "Power BI dashboards are more visually appealing, interactive and customizable than those in Excel."
   ]
  },
  {
   "cell_type": "markdown",
   "id": "f40bc8bd",
   "metadata": {},
   "source": [
    "#  3.Explain PowerQuery?"
   ]
  },
  {
   "cell_type": "markdown",
   "id": "3027f3c9",
   "metadata": {},
   "source": [
    "With Power Query (known as Get & Transform in Excel), you can import or connect to external data, and then shape that data, for example remove a column, change a data type, or merge tables, in ways that meet your needs."
   ]
  },
  {
   "cell_type": "markdown",
   "id": "616ab587",
   "metadata": {},
   "source": [
    "# 4.Explain PowerMap?\n"
   ]
  },
  {
   "cell_type": "markdown",
   "id": "e2426703",
   "metadata": {},
   "source": [
    "Microsoft Power Map for Excel is a three-dimensional (3-D) data visualization tool that lets you look at information in new ways. A power map lets you discover insights you might not see in traditional two-dimensional (2-D) tables and charts.\n",
    "\n",
    "With Power Map, you can plot geographic and temporal data on a 3-D globe or custom map, show it over time, and create visual tours you can share with other people. \n",
    "\n"
   ]
  },
  {
   "cell_type": "markdown",
   "id": "c6b76bce",
   "metadata": {},
   "source": [
    "# 5. How powerBi eliminated the need to host SharePoint Server on premises?\n"
   ]
  },
  {
   "cell_type": "markdown",
   "id": "3f6a25a1",
   "metadata": {},
   "source": [
    "Since the feature was first introduced in SharePoint, Microsoft BI strategy has shifted away from heavy integration to a standalone BI solution, Power BI, to give customers a flexible, optional integration with SharePoint along with standalone capabilities. Both Power BI.com and Power BI Report Server offer the option to host and view Excel Workbooks with PowerPivot models today and is the preferred method for customers going forward to host and use their Excel Workbooks with PowerPivot models, or simply to migrate to PBIX files using the migration option in Power BI Desktop for Excel Workbooks."
   ]
  },
  {
   "cell_type": "markdown",
   "id": "f7c5d88f",
   "metadata": {},
   "source": [
    "# 6. Explain the updates done in Power Bi Service(power BI 2.0) as compared to older version ?"
   ]
  },
  {
   "cell_type": "markdown",
   "id": "23160eec",
   "metadata": {},
   "source": [
    "Online Portal\n",
    "\n",
    "Online business intelligence service, Power BI is forced to bridge the divide between the online service and the reality that at least for now, most of the data used by an analyst will be from local, on-premise data sources.\n",
    "\n",
    "OneDrive based Report\n",
    "\n",
    "When it comes to analysis, it's all about the data. Power BI is about setting analysts free to rapidly build and deploy reports for their organizations.\n",
    "\n",
    "Account Setup\n",
    "\n",
    "The welcome screen suggests that your first task is to get data for a report. This screen is nearly identical to the Get Data screen, so you'll see it many times using Power BI.\n",
    "\n",
    "Dashboard\n",
    "\n",
    "Dashboards are containers to be shared. One or more report visualizations can be pinned to a dashboard, from one or more reports."
   ]
  }
 ],
 "metadata": {
  "kernelspec": {
   "display_name": "Python 3 (ipykernel)",
   "language": "python",
   "name": "python3"
  },
  "language_info": {
   "codemirror_mode": {
    "name": "ipython",
    "version": 3
   },
   "file_extension": ".py",
   "mimetype": "text/x-python",
   "name": "python",
   "nbconvert_exporter": "python",
   "pygments_lexer": "ipython3",
   "version": "3.9.7"
  }
 },
 "nbformat": 4,
 "nbformat_minor": 5
}
