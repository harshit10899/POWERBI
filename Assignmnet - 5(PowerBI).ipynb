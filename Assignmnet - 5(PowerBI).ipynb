{
 "cells": [
  {
   "cell_type": "markdown",
   "id": "9476f98b",
   "metadata": {},
   "source": [
    "# Power BI Assignment 5"
   ]
  },
  {
   "cell_type": "markdown",
   "id": "fcf72d5d",
   "metadata": {},
   "source": [
    "## 1.Explain DAX.\n"
   ]
  },
  {
   "cell_type": "markdown",
   "id": "8b0c2d2b",
   "metadata": {},
   "source": [
    "Data Analysis Expressions (DAX) is a formula expression language used in Analysis Services, Power BI, and Power Pivot in Excel.\n",
    "\n",
    "DAX formulas include functions, operators, and values to perform advanced calculations and queries on data in related tables and columns in tabular data models.\n",
    "\n",
    "DAX programming formula contains two data types: Numeric and Other. Numeric includes - integers, currency and decimals, while Other includes: string and binary object.\n",
    "\n",
    "DAX function can also include other functions, conditional statements, and value references."
   ]
  },
  {
   "cell_type": "markdown",
   "id": "b7c26ae3",
   "metadata": {},
   "source": [
    "## 2.Explain datasets, reports, and dashboards and how they relate to each other?\n"
   ]
  },
  {
   "cell_type": "markdown",
   "id": "2e7b06d6",
   "metadata": {},
   "source": [
    "A Power BI Dataset is a series of Power Query queries that have been shaped in a DAX model. Each dataset can combine different files, database tables and online services all into one tabular model. \n",
    "\n",
    "A power BI report is a series of visualizations, filters and static elements on a canvas. Power BI reports are saved as a single PBIX file and connect to a single dataset. Remember, a Power BI dataset can have many data sources.\n",
    "\n",
    "A Power BI dashboard is a single page, often called a canvas, that uses visualizations to tell a story. Because it is limited to one page, a well-designed dashboard contains only the most-important elements of that story.\n",
    "\n",
    "A report and a dataset are going to have a one to one relationship. A dataset can have one report and a report can have one data set.\n",
    "\n",
    "It is not a Power BI Dashboard. In Power BI, a dashboard is tool for pinning visuals from different reports and other sources of data."
   ]
  },
  {
   "cell_type": "markdown",
   "id": "bc0134be",
   "metadata": {},
   "source": [
    "## 3.How reports can be created in power BI, explain two ways with Navigation of each.\n"
   ]
  },
  {
   "cell_type": "markdown",
   "id": "1db051f6",
   "metadata": {},
   "source": [
    "Power BI Report Design is a pivotal process that helps companies design accurate reports by unifying data from multiple sources and gain valuable insights from their customers.\n",
    "\n",
    "METHOD 1\n",
    "\n",
    "Step 1: Integrating your Data Source with Power Query\n",
    "\n",
    "Step 2: Querying Data onto the Navigator\n",
    "\n",
    "Step 3: Editing the Queries on the Table\n",
    "\n",
    "Step 4: Shaping the Data According to your Requirements\n",
    "\n",
    "Step 5: Merging Queries from Different Tables\n",
    "\n",
    "Step 6: Loading the Report onto the Power BI Desktop\n",
    "\n",
    "METHOD 2\n",
    "\n",
    "Step 1: Selecting your Data Source\n",
    "\n",
    "Step 2: Selecting the Data Types for Attributes\n",
    "\n",
    "Step 3: Summarizing your Data Source using Create Flow \n",
    "\n",
    "Step 4: Editing Fields using the Summarize Pane\n"
   ]
  },
  {
   "cell_type": "markdown",
   "id": "1f69ea1c",
   "metadata": {},
   "source": [
    "## 4.How to connect to data in Power BI? How to use the content pack to connect to google analytics? Mention the steps.\n"
   ]
  },
  {
   "cell_type": "markdown",
   "id": "e43a5dc2",
   "metadata": {},
   "source": [
    "With Power BI Desktop, you can connect to many different types of data. These sources include basic data sources, such as a Microsoft Excel file. You can connect to online services that contain all sorts of data, such as Salesforce, Microsoft Dynamics, Azure Blob Storage, and many more.\n",
    "\n",
    "In Power BI, it’s straightforward to connect to the Google Analytics content pack : - \n",
    "\n",
    "In the left navigation pane, click Get Data.\n",
    "\n",
    "In the Services box, click Get.\n",
    "\n",
    "From the menu of online services, select Google Analytics, and then click Connect.\n",
    "\n",
    "Enter the Google Analytics account, property, and view that you want to connect to. Then sign in with your Google Analytics credentials.\n",
    "\n",
    "To permit Power BI to connect to Google Analytics, click Accept.\n",
    "\n",
    "When the import process completes, you will see a new dashboard, report, and model in the Navigation Pane. Select the dashboard to view your imported data.\n",
    "\n",
    "\n"
   ]
  },
  {
   "cell_type": "markdown",
   "id": "f03d58ba",
   "metadata": {},
   "source": [
    "## 5.How to import Local files in Power BI? Mention the Steps.\n"
   ]
  },
  {
   "cell_type": "markdown",
   "id": "03981fd2",
   "metadata": {},
   "source": [
    "Manually import data to Power BI : -\n",
    "\n",
    "1.In Power BI, click Get Data in the lower left screen.\n",
    "\n",
    "2.Under Import or Connect to Data > Files, click Get.\n",
    "\n",
    "3.Click Local File.\n",
    "\n",
    "4.Choose which file to upload and click Open.\n",
    "\n",
    "5.Click Upload under Upload your Excel file to Power BI.\n",
    "\n",
    "6.The message “Your file has been uploaded” should appear."
   ]
  },
  {
   "cell_type": "markdown",
   "id": "a97d5bc0",
   "metadata": {},
   "source": [
    "## 6.In Power BI visualization, what are Reading View and Editing view?"
   ]
  },
  {
   "cell_type": "markdown",
   "id": "085ce0a5",
   "metadata": {},
   "source": [
    "READING VIEW \n",
    "\n",
    "If you are a business user, then you are more likely to use Reading view to consume reports created by others. Editing view is used by report designers, who create the reports and share them with you. Reading view is your way to explore and interact with reports created by colleagues.\n",
    "\n",
    "EDITING VIEW\n",
    "\n",
    "Reading view for report business users and Editing view for report owners and creators. You need a Power BI Pro or Premium Per User (PPU) license to share reports and to edit reports created by others. "
   ]
  }
 ],
 "metadata": {
  "kernelspec": {
   "display_name": "Python 3 (ipykernel)",
   "language": "python",
   "name": "python3"
  },
  "language_info": {
   "codemirror_mode": {
    "name": "ipython",
    "version": 3
   },
   "file_extension": ".py",
   "mimetype": "text/x-python",
   "name": "python",
   "nbconvert_exporter": "python",
   "pygments_lexer": "ipython3",
   "version": "3.9.7"
  }
 },
 "nbformat": 4,
 "nbformat_minor": 5
}
